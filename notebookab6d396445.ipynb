{
 "cells": [
  {
   "cell_type": "code",
   "execution_count": 1,
   "id": "1694256e",
   "metadata": {
    "_cell_guid": "b1076dfc-b9ad-4769-8c92-a6c4dae69d19",
    "_uuid": "8f2839f25d086af736a60e9eeb907d3b93b6e0e5",
    "execution": {
     "iopub.execute_input": "2023-12-06T06:17:20.680603Z",
     "iopub.status.busy": "2023-12-06T06:17:20.679967Z",
     "iopub.status.idle": "2023-12-06T06:17:20.984063Z",
     "shell.execute_reply": "2023-12-06T06:17:20.982678Z"
    },
    "papermill": {
     "duration": 0.31055,
     "end_time": "2023-12-06T06:17:20.986938",
     "exception": false,
     "start_time": "2023-12-06T06:17:20.676388",
     "status": "completed"
    },
    "tags": []
   },
   "outputs": [
    {
     "name": "stdout",
     "output_type": "stream",
     "text": [
      "/kaggle/input/gdsciiitdwd-aimprove-contest-1/AImprove-Contest-1.csv\n"
     ]
    }
   ],
   "source": [
    "# This Python 3 environment comes with many helpful analytics libraries installed\n",
    "# It is defined by the kaggle/python Docker image: https://github.com/kaggle/docker-python\n",
    "# For example, here's several helpful packages to load\n",
    "\n",
    "import numpy as np # linear algebra\n",
    "import pandas as pd # data processing, CSV file I/O (e.g. pd.read_csv)\n",
    "\n",
    "# Input data files are available in the read-only \"../input/\" directory\n",
    "# For example, running this (by clicking run or pressing Shift+Enter) will list all files under the input directory\n",
    "\n",
    "import os\n",
    "for dirname, _, filenames in os.walk('/kaggle/input'):\n",
    "    for filename in filenames:\n",
    "        print(os.path.join(dirname, filename))\n",
    "\n",
    "# You can write up to 20GB to the current directory (/kaggle/working/) that gets preserved as output when you create a version using \"Save & Run All\" \n",
    "# You can also write temporary files to /kaggle/temp/, but they won't be saved outside of the current session"
   ]
  },
  {
   "cell_type": "code",
   "execution_count": 2,
   "id": "3ca55093",
   "metadata": {
    "execution": {
     "iopub.execute_input": "2023-12-06T06:17:20.994695Z",
     "iopub.status.busy": "2023-12-06T06:17:20.994155Z",
     "iopub.status.idle": "2023-12-06T06:17:22.369761Z",
     "shell.execute_reply": "2023-12-06T06:17:22.368907Z"
    },
    "papermill": {
     "duration": 1.382768,
     "end_time": "2023-12-06T06:17:22.371663",
     "exception": false,
     "start_time": "2023-12-06T06:17:20.988895",
     "status": "completed"
    },
    "tags": []
   },
   "outputs": [
    {
     "name": "stdout",
     "output_type": "stream",
     "text": [
      "Rows before price range filtering: 565\n",
      "Rows after price range filtering: 545\n",
      "Rows before handling missing values: 545\n",
      "Rows after handling missing values: 545\n",
      "Rows before removing negative values: 545\n",
      "Rows with negative values:\n",
      "     index      price    area  bedrooms  bathrooms  stories  mainroad\n",
      "376    376  3675000.0  3630.0       2.0       -1.0      1.0       1.0\n",
      "409    409  3500000.0  3120.0      -1.0        1.0      2.0       1.0\n",
      "454    454  3220000.0  2684.0      -1.0        1.0      1.0       1.0\n",
      "474    474  3080000.0  4960.0      -1.0        1.0      1.0       1.0\n",
      "491    491  2940000.0  3600.0      -1.0        1.0      2.0       0.0\n",
      "540    540  2345000.0  3640.0      -1.0        1.0      1.0       1.0\n",
      "Rows after removing negative values: 539\n",
      "Rows before correcting 'mainroad' category: 539\n",
      "Rows after correcting 'mainroad' category: 539\n"
     ]
    }
   ],
   "source": [
    "# Load necessary libraries\n",
    "\n",
    "import matplotlib.pyplot as plt\n",
    "import seaborn as sns\n",
    "\n",
    "\n",
    "data = pd.read_csv('/kaggle/input/gdsciiitdwd-aimprove-contest-1/AImprove-Contest-1.csv') \n",
    "# Task 1: Price Range Filtering\n",
    "print(\"Rows before price range filtering:\", len(data))\n",
    "data = data[(data['price'] >= 1750000) & (data['price'] <= 13300000)]\n",
    "print(\"Rows after price range filtering:\", len(data))\n",
    "\n",
    "# Task 2: Handling Missing Values\n",
    "print(\"Rows before handling missing values:\", len(data))\n",
    "data = data.dropna()\n",
    "print(\"Rows after handling missing values:\", len(data))\n",
    "\n",
    "# Task 3: Removing Rows with Negative Values (except 'mainroad')\n",
    "print(\"Rows before removing negative values:\", len(data))\n",
    "numerical_columns = data.select_dtypes(include=['int64', 'float64']).columns\n",
    "\n",
    "# Check for negative values in numerical columns except 'mainroad'\n",
    "negative_values_mask = (data[numerical_columns].lt(0) & (data.columns != 'mainroad')).any(axis=1)\n",
    "rows_with_negative_values = data[negative_values_mask]\n",
    "\n",
    "# Display rows with negative values to inspect the data\n",
    "print(\"Rows with negative values:\")\n",
    "print(rows_with_negative_values)\n",
    "\n",
    "# Remove rows with negative values\n",
    "data = data[~negative_values_mask]\n",
    "print(\"Rows after removing negative values:\", len(data))\n",
    "\n",
    "# Task 4: Correcting Main Road Category\n",
    "print(\"Rows before correcting 'mainroad' category:\", len(data))\n",
    "data.loc[~data['mainroad'].isin([0, 1]), 'mainroad'] = 0\n",
    "print(\"Rows after correcting 'mainroad' category:\", len(data))\n",
    "\n",
    "\n",
    "# Sorting the dataset based on price in descending order\n",
    "data.sort_values(by='price', ascending=False, inplace=True)\n",
    "\n",
    "# Exporting the cleaned dataset to a CSV file\n",
    "data.to_csv('/kaggle/working/submission.csv', index=False)\n"
   ]
  }
 ],
 "metadata": {
  "kaggle": {
   "accelerator": "none",
   "dataSources": [
    {
     "databundleVersionId": 7164281,
     "sourceId": 65160,
     "sourceType": "competition"
    }
   ],
   "dockerImageVersionId": 30587,
   "isGpuEnabled": false,
   "isInternetEnabled": false,
   "language": "python",
   "sourceType": "notebook"
  },
  "kernelspec": {
   "display_name": "Python 3",
   "language": "python",
   "name": "python3"
  },
  "language_info": {
   "codemirror_mode": {
    "name": "ipython",
    "version": 3
   },
   "file_extension": ".py",
   "mimetype": "text/x-python",
   "name": "python",
   "nbconvert_exporter": "python",
   "pygments_lexer": "ipython3",
   "version": "3.10.12"
  },
  "papermill": {
   "default_parameters": {},
   "duration": 4.882619,
   "end_time": "2023-12-06T06:17:22.897063",
   "environment_variables": {},
   "exception": null,
   "input_path": "__notebook__.ipynb",
   "output_path": "__notebook__.ipynb",
   "parameters": {},
   "start_time": "2023-12-06T06:17:18.014444",
   "version": "2.4.0"
  }
 },
 "nbformat": 4,
 "nbformat_minor": 5
}
