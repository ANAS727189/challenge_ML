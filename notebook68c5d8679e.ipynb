{
 "cells": [
  {
   "cell_type": "code",
   "execution_count": 1,
   "id": "9e2bcaa7",
   "metadata": {
    "_cell_guid": "b1076dfc-b9ad-4769-8c92-a6c4dae69d19",
    "_uuid": "8f2839f25d086af736a60e9eeb907d3b93b6e0e5",
    "execution": {
     "iopub.execute_input": "2023-12-10T05:54:23.969712Z",
     "iopub.status.busy": "2023-12-10T05:54:23.969275Z",
     "iopub.status.idle": "2023-12-10T05:54:26.410566Z",
     "shell.execute_reply": "2023-12-10T05:54:26.409613Z"
    },
    "papermill": {
     "duration": 2.451185,
     "end_time": "2023-12-10T05:54:26.414027",
     "exception": false,
     "start_time": "2023-12-10T05:54:23.962842",
     "status": "completed"
    },
    "tags": []
   },
   "outputs": [
    {
     "name": "stdout",
     "output_type": "stream",
     "text": [
      "/kaggle/input/aimprove-contest-week-2/Test-set-AImprove-2 - Detailed.csv\n",
      "/kaggle/input/aimprove-contest-week-2/Test-set-AImprove-2..csv\n",
      "/kaggle/input/aimprove-contest-week-2/Train-set-AImprove2.csv\n"
     ]
    }
   ],
   "source": [
    "# This Python 3 environment comes with many helpful analytics libraries installed\n",
    "# It is defined by the kaggle/python Docker image: https://github.com/kaggle/docker-python\n",
    "# For example, here's several helpful packages to load\n",
    "\n",
    "import numpy as np # linear algebra\n",
    "import pandas as pd # data processing, CSV file I/O (e.g. pd.read_csv)\n",
    "from sklearn.ensemble import RandomForestRegressor\n",
    "from sklearn.metrics import mean_squared_error\n",
    "from sklearn.impute import SimpleImputer\n",
    "from sklearn.preprocessing import OneHotEncoder\n",
    "from sklearn.compose import ColumnTransformer\n",
    "from sklearn.pipeline import Pipeline\n",
    "from sklearn.model_selection import RandomizedSearchCV\n",
    "\n",
    "\n",
    "\n",
    "\n",
    "# Input data files are available in the read-only \"../input/\" directory\n",
    "# For example, running this (by clicking run or pressing Shift+Enter) will list all files under the input directory\n",
    "\n",
    "import os\n",
    "for dirname, _, filenames in os.walk('/kaggle/input'):\n",
    "    for filename in filenames:\n",
    "        print(os.path.join(dirname, filename))\n",
    "\n",
    "# You can write up to 20GB to the current directory (/kaggle/working/) that gets preserved as output when you create a version using \"Save & Run All\" \n",
    "# You can also write temporary files to /kaggle/temp/, but they won't be saved outside of the current session"
   ]
  },
  {
   "cell_type": "code",
   "execution_count": 2,
   "id": "7c707f35",
   "metadata": {
    "execution": {
     "iopub.execute_input": "2023-12-10T05:54:26.427861Z",
     "iopub.status.busy": "2023-12-10T05:54:26.426554Z",
     "iopub.status.idle": "2023-12-10T06:01:17.327181Z",
     "shell.execute_reply": "2023-12-10T06:01:17.325785Z"
    },
    "papermill": {
     "duration": 410.913011,
     "end_time": "2023-12-10T06:01:17.332831",
     "exception": false,
     "start_time": "2023-12-10T05:54:26.419820",
     "status": "completed"
    },
    "tags": []
   },
   "outputs": [
    {
     "name": "stdout",
     "output_type": "stream",
     "text": [
      "Mean Squared Error using RandomForestRegressor on Training Set:  0.01568200038572775\n"
     ]
    }
   ],
   "source": [
    "\n",
    "train_data = pd.read_csv('/kaggle/input/aimprove-contest-week-2/Train-set-AImprove2.csv')\n",
    "test_data = pd.read_csv('/kaggle/input/aimprove-contest-week-2/Test-set-AImprove-2 - Detailed.csv')\n",
    "\n",
    "train_data['Events'].fillna('No Event Occurred', inplace=True)\n",
    "\n",
    "train_data['PrecipitationSumInches'].replace('T', 0.001, inplace=True)\n",
    "\n",
    "\n",
    "X_train = train_data.drop(columns=['PrecipitationSumInches', 'Date'])\n",
    "y_train = train_data['PrecipitationSumInches']\n",
    "\n",
    "\n",
    "categorical_cols = [col for col in X_train.columns if X_train[col].dtype == 'object']\n",
    "\n",
    "\n",
    "numerical_transformer = SimpleImputer(strategy='mean')\n",
    "categorical_transformer = Pipeline(steps=[\n",
    "    ('imputer', SimpleImputer(strategy='most_frequent')),\n",
    "    ('onehot', OneHotEncoder(handle_unknown='ignore'))\n",
    "])\n",
    "\n",
    "preprocessor = ColumnTransformer(\n",
    "    transformers=[\n",
    "        ('num', numerical_transformer, X_train.select_dtypes(include=['int64', 'float64']).columns),\n",
    "        ('cat', categorical_transformer, categorical_cols)\n",
    "    ])\n",
    "\n",
    "# Random Forest Regressor model\n",
    "model = RandomForestRegressor(random_state=42)\n",
    "\n",
    "param_grid = {\n",
    "    'model__n_estimators': [200, 300, 400],\n",
    "    'model__max_depth': [20, 30, 40],\n",
    "    'model__min_samples_split': [2, 3, 4],\n",
    "    # Add more hyperparameters to the grid for tuning\n",
    "}\n",
    "\n",
    "\n",
    "\n",
    "clf = Pipeline(steps=[('preprocessor', preprocessor), ('model', model)])\n",
    "\n",
    "random_search = RandomizedSearchCV(clf, param_distributions=param_grid, n_iter=10,scoring='neg_mean_squared_error', random_state=42)\n",
    "\n",
    "random_search.fit(X_train, y_train)\n",
    "\n",
    "\n",
    "# Get best estimator from the search\n",
    "best_model = random_search.best_estimator_\n",
    "\n",
    "# Train the best model on the entire training data\n",
    "best_model.fit(X_train, y_train)\n",
    "\n",
    "\n",
    "# Calculate MSE on training set\n",
    "train_predictions = best_model.predict(X_train)\n",
    "train_mse = mean_squared_error(y_train, train_predictions)\n",
    "print(\"Mean Squared Error using RandomForestRegressor on Training Set: \", train_mse)"
   ]
  },
  {
   "cell_type": "code",
   "execution_count": 3,
   "id": "cc4d9d94",
   "metadata": {
    "execution": {
     "iopub.execute_input": "2023-12-10T06:01:17.342112Z",
     "iopub.status.busy": "2023-12-10T06:01:17.341686Z",
     "iopub.status.idle": "2023-12-10T06:01:17.348903Z",
     "shell.execute_reply": "2023-12-10T06:01:17.347612Z"
    },
    "papermill": {
     "duration": 0.015215,
     "end_time": "2023-12-10T06:01:17.351798",
     "exception": false,
     "start_time": "2023-12-10T06:01:17.336583",
     "status": "completed"
    },
    "tags": []
   },
   "outputs": [
    {
     "name": "stdout",
     "output_type": "stream",
     "text": [
      "Training Data Columns:\n",
      "Index(['TempHighF', 'TempAvgF', 'TempLowF', 'DewPointHighF', 'DewPointAvgF',\n",
      "       'DewPointLowF', 'HumidityHighPercent', 'HumidityAvgPercent',\n",
      "       'HumidityLowPercent', 'SeaLevelPressureHighInches',\n",
      "       'SeaLevelPressureAvgInches', 'SeaLevelPressureLowInches',\n",
      "       'VisibilityHighMiles', 'VisibilityAvgMiles', 'VisibilityLowMiles',\n",
      "       'WindHighMPH', 'WindAvgMPH', 'WindGustMPH', 'Events'],\n",
      "      dtype='object')\n",
      "Test Data Columns:\n",
      "Index(['Date', 'TempHighF', 'TempAvgF', 'TempLowF', 'DewPointHighF',\n",
      "       'DewPointAvgF', 'DewPointLowF', 'HumidityHighPercent',\n",
      "       'HumidityAvgPercent', 'HumidityLowPercent',\n",
      "       'SeaLevelPressureHighInches', 'SeaLevelPressureAvgInches',\n",
      "       'SeaLevelPressureLowInches', 'VisibilityHighMiles',\n",
      "       'VisibilityAvgMiles', 'VisibilityLowMiles', 'WindHighMPH', 'WindAvgMPH',\n",
      "       'WindGustMPH', 'PrecipitationSumInches'],\n",
      "      dtype='object')\n"
     ]
    }
   ],
   "source": [
    "print(\"Training Data Columns:\")\n",
    "print(X_train.columns)\n",
    "\n",
    "\n",
    "print(\"Test Data Columns:\")\n",
    "print(test_data.columns)"
   ]
  },
  {
   "cell_type": "code",
   "execution_count": 4,
   "id": "b90f215a",
   "metadata": {
    "execution": {
     "iopub.execute_input": "2023-12-10T06:01:17.361460Z",
     "iopub.status.busy": "2023-12-10T06:01:17.361061Z",
     "iopub.status.idle": "2023-12-10T06:01:17.392410Z",
     "shell.execute_reply": "2023-12-10T06:01:17.391266Z"
    },
    "papermill": {
     "duration": 0.039393,
     "end_time": "2023-12-10T06:01:17.395205",
     "exception": false,
     "start_time": "2023-12-10T06:01:17.355812",
     "status": "completed"
    },
    "tags": []
   },
   "outputs": [],
   "source": [
    "test_data['Events'] = train_data['Events']  # Use the same 'Events' column from the training set\n",
    "\n",
    "X_test_processed = test_data.drop(columns=['Date'], errors='ignore')\n",
    "test_predictions = best_model.predict(X_test_processed)\n"
   ]
  },
  {
   "cell_type": "code",
   "execution_count": 5,
   "id": "111b267e",
   "metadata": {
    "execution": {
     "iopub.execute_input": "2023-12-10T06:01:17.405010Z",
     "iopub.status.busy": "2023-12-10T06:01:17.404589Z",
     "iopub.status.idle": "2023-12-10T06:01:17.410460Z",
     "shell.execute_reply": "2023-12-10T06:01:17.409274Z"
    },
    "papermill": {
     "duration": 0.013811,
     "end_time": "2023-12-10T06:01:17.413174",
     "exception": false,
     "start_time": "2023-12-10T06:01:17.399363",
     "status": "completed"
    },
    "tags": []
   },
   "outputs": [],
   "source": [
    "submission_df = pd.DataFrame({\n",
    "    'Date': test_data['Date'],\n",
    "    'Predictions': test_predictions\n",
    "})"
   ]
  },
  {
   "cell_type": "code",
   "execution_count": 6,
   "id": "b381a13a",
   "metadata": {
    "execution": {
     "iopub.execute_input": "2023-12-10T06:01:17.423505Z",
     "iopub.status.busy": "2023-12-10T06:01:17.422503Z",
     "iopub.status.idle": "2023-12-10T06:01:17.429782Z",
     "shell.execute_reply": "2023-12-10T06:01:17.428814Z"
    },
    "papermill": {
     "duration": 0.015089,
     "end_time": "2023-12-10T06:01:17.432298",
     "exception": false,
     "start_time": "2023-12-10T06:01:17.417209",
     "status": "completed"
    },
    "tags": []
   },
   "outputs": [],
   "source": [
    "submission_df = submission_df.drop_duplicates(subset=['Date'])\n",
    "submission_df = submission_df[submission_df['Date'] != '']"
   ]
  },
  {
   "cell_type": "code",
   "execution_count": 7,
   "id": "c04d3fd6",
   "metadata": {
    "execution": {
     "iopub.execute_input": "2023-12-10T06:01:17.442542Z",
     "iopub.status.busy": "2023-12-10T06:01:17.441494Z",
     "iopub.status.idle": "2023-12-10T06:01:17.451047Z",
     "shell.execute_reply": "2023-12-10T06:01:17.449839Z"
    },
    "papermill": {
     "duration": 0.017233,
     "end_time": "2023-12-10T06:01:17.453542",
     "exception": false,
     "start_time": "2023-12-10T06:01:17.436309",
     "status": "completed"
    },
    "tags": []
   },
   "outputs": [],
   "source": [
    "submission_df.to_csv('/kaggle/working/Test-set-AImprove-2.csv', index=False)"
   ]
  }
 ],
 "metadata": {
  "kaggle": {
   "accelerator": "none",
   "dataSources": [
    {
     "databundleVersionId": 7251431,
     "sourceId": 65652,
     "sourceType": "competition"
    }
   ],
   "dockerImageVersionId": 30615,
   "isGpuEnabled": false,
   "isInternetEnabled": false,
   "language": "python",
   "sourceType": "notebook"
  },
  "kernelspec": {
   "display_name": "Python 3",
   "language": "python",
   "name": "python3"
  },
  "language_info": {
   "codemirror_mode": {
    "name": "ipython",
    "version": 3
   },
   "file_extension": ".py",
   "mimetype": "text/x-python",
   "name": "python",
   "nbconvert_exporter": "python",
   "pygments_lexer": "ipython3",
   "version": "3.10.12"
  },
  "papermill": {
   "default_parameters": {},
   "duration": 417.706017,
   "end_time": "2023-12-10T06:01:18.080138",
   "environment_variables": {},
   "exception": null,
   "input_path": "__notebook__.ipynb",
   "output_path": "__notebook__.ipynb",
   "parameters": {},
   "start_time": "2023-12-10T05:54:20.374121",
   "version": "2.4.0"
  }
 },
 "nbformat": 4,
 "nbformat_minor": 5
}
